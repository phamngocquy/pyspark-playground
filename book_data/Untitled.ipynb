{
 "cells": [
  {
   "cell_type": "code",
   "execution_count": 65,
   "id": "8fce6da5-6a64-4b86-bfa3-e2d255d77806",
   "metadata": {},
   "outputs": [
    {
     "name": "stdout",
     "output_type": "stream",
     "text": [
      "+----+-----+\n",
      "|word|count|\n",
      "+----+-----+\n",
      "| the| 4306|\n",
      "|  to| 4139|\n",
      "|  of| 3593|\n",
      "| and| 3432|\n",
      "| her| 2220|\n",
      "|   a| 1926|\n",
      "|  in| 1852|\n",
      "| was| 1839|\n",
      "|   i| 1754|\n",
      "| she| 1682|\n",
      "+----+-----+\n",
      "only showing top 10 rows\n",
      "\n"
     ]
    }
   ],
   "source": [
    "from pyspark.sql import SparkSession\n",
    "from pyspark.sql.functions import col, explode, lower, regexp_extract, split\n",
    "import os\n",
    "\n",
    "# spark = SparkSession.builder.appName(\n",
    "#     \"Ch02 - Analyzing the vocabulary of Pride and Prejudice.\"\n",
    "# ).setMaster.getOrCreate()\n",
    "\n",
    "spark = SparkSession.builder.remote(\"sc://localhost:15002\").getOrCreate()\n",
    "\n",
    "book = spark.read.text(\"/opt/spark/data/pride-and-prejudice.txt\")\n",
    "\n",
    "lines = book.select(split(col(\"value\"), \" \").alias(\"line\"))\n",
    "\n",
    "words = lines.select(explode(col(\"line\")).alias(\"word\"))\n",
    "\n",
    "words_lower = words.select(lower(col(\"word\")).alias(\"word_lower\"))\n",
    "words_clean = words_lower.select(\n",
    "    regexp_extract(col(\"word_lower\"), \"[a-z]*\", 0).alias(\"word\")\n",
    ")\n",
    "words_nonull = words_clean.where(col(\"word\") != \"\")\n",
    "\n",
    "results = words_nonull.groupby(col(\"word\")).count()\n",
    "\n",
    "results.orderBy(col(\"count\").desc()).show(10)\n"
   ]
  },
  {
   "cell_type": "code",
   "execution_count": 66,
   "id": "02278903-dc5d-44c1-9f4e-af065358d6ba",
   "metadata": {
    "scrolled": true
   },
   "outputs": [],
   "source": [
    "from pyspark import SparkConf\n",
    "from pyspark.sql import SparkSession\n",
    "\n",
    "conf = SparkConf().setAppName(\"Apache Iceberg with PySpark\")\n",
    "    # .setAll([\n",
    "    #     (\"spark.sql.catalog.local\",\"org.apache.iceberg.spark.SparkCatalog\"),\n",
    "    #     (\"spark.sql.catalog.local.warehouse\",\"/warehouse\"),\n",
    "    #     (\"park.sql.catalog.data.catalog-impl\",\"org.apache.iceberg.jdbc.JdbcCatalog\"),\n",
    "    #     (\"spark.sql.catalog.local.uri\", \"jdbc:postgresql://postgres-db:5432/iceberg_db\"),\n",
    "    #     (\"spark.sql.catalog.local.jdbc.user\", \"postgres\"),\n",
    "    #     (\"spark.sql.catalog.local.jdbc.password\", \"postgres\"),\n",
    "    #     (\"spark.sql.defaultCatalog\",\"local\")\n",
    "    # ])\n",
    "spark = SparkSession.builder.remote(\"sc://localhost:15002\").config(conf=conf).getOrCreate()\n",
    "\n",
    "\n",
    "# spark.master                           spark://spark-iceberg:7077\n",
    "# spark.eventLog.enabled                 true\n",
    "# spark.eventLog.dir                     /opt/spark/spark-events\n",
    "# spark.history.fs.logDirectory          /opt/spark/spark-events\n",
    "# spark.sql.extensions                   org.apache.iceberg.spark.extensions.IcebergSparkSessionExtensions\n",
    "# spark.sql.catalog.data                 org.apache.iceberg.spark.SparkCatalog\n",
    "# spark.sql.catalog.data.warehouse       /home/iceberg/warehouse\n",
    "# spark.sql.catalog.data.catalog-impl    org.apache.iceberg.jdbc.JdbcCatalog\n",
    "# spark.sql.catalog.data.uri             jdbc:postgresql://pg-catalog:5432/iceberg\n",
    "# spark.sql.catalog.data.jdbc.user       iceberg\n",
    "# spark.sql.catalog.data.jdbc.password   iceberg\n",
    "# spark.sql.defaultCatalog               data\n",
    "# spark.sql.catalogImplementation        in-memory"
   ]
  },
  {
   "cell_type": "code",
   "execution_count": 67,
   "id": "67536d51-0be2-4ea8-8de4-cd538964b1a8",
   "metadata": {
    "scrolled": true
   },
   "outputs": [],
   "source": [
    "from pyspark.sql import SparkSession, DataFrame\n",
    "import pyspark.sql.functions as F\n",
    "path = \"/opt/spark/data/Belgium.csv\"\n",
    "vaccinations: DataFrame = spark.read \\\n",
    "      .option(\"header\", \"true\") \\\n",
    "      .option(\"inferSchema\", \"true\") \\\n",
    "      .csv(path)\n",
    "\n",
    "vaccinations \\\n",
    "  .withColumn(\"date\", F.to_date(F.col(\"date\"))) \\\n",
    "  .writeTo(\"local.db.vaccinations\") \\\n",
    "  .create()"
   ]
  },
  {
   "cell_type": "code",
   "execution_count": 68,
   "id": "430933f1-eba8-4cb8-9b9c-825803cd3b4e",
   "metadata": {},
   "outputs": [],
   "source": [
    "from pyspark.sql.types import StructType,StructField, StringType, IntegerType\n",
    "data = [(\"James\",\"\",\"Smith\",\"36636\",\"M\",3000),\n",
    "    (\"Michael\",\"Rose\",\"\",\"40288\",\"M\",4000),\n",
    "    (\"Robert\",\"\",\"Williams\",\"42114\",\"M\",4000),\n",
    "    (\"Maria\",\"Anne\",\"Jones\",\"39192\",\"F\",4000),\n",
    "    (\"Jen\",\"Mary\",\"Brown\",\"\",\"F\",-1)\n",
    "  ]\n",
    "\n",
    "schema = StructType([ \\\n",
    "    StructField(\"firstname\",StringType(),True), \\\n",
    "    StructField(\"middlename\",StringType(),True), \\\n",
    "    StructField(\"lastname\",StringType(),True), \\\n",
    "    StructField(\"id\", StringType(), True), \\\n",
    "    StructField(\"gender\", StringType(), True), \\\n",
    "    StructField(\"salary\", IntegerType(), True) \\\n",
    "  ])\n",
    "\n",
    "df = spark.createDataFrame(data=data, schema=schema)\n",
    "df.writeTo(\"local.db.test\").create()"
   ]
  },
  {
   "cell_type": "code",
   "execution_count": null,
   "id": "af6ec3a1-2f77-4a93-ab06-6c2395d9572e",
   "metadata": {},
   "outputs": [],
   "source": []
  },
  {
   "cell_type": "code",
   "execution_count": null,
   "id": "96e5b1d4-6a28-42ea-a8a9-e5a9b40de7e5",
   "metadata": {},
   "outputs": [],
   "source": []
  }
 ],
 "metadata": {
  "kernelspec": {
   "display_name": "Python 3 (ipykernel)",
   "language": "python",
   "name": "python3"
  },
  "language_info": {
   "codemirror_mode": {
    "name": "ipython",
    "version": 3
   },
   "file_extension": ".py",
   "mimetype": "text/x-python",
   "name": "python",
   "nbconvert_exporter": "python",
   "pygments_lexer": "ipython3",
   "version": "3.11.8"
  }
 },
 "nbformat": 4,
 "nbformat_minor": 5
}
