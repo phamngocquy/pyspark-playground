{
 "cells": [
  {
   "cell_type": "code",
   "execution_count": 14,
   "id": "5463974a-3cb5-40a7-8a1a-6c5f09df4943",
   "metadata": {},
   "outputs": [],
   "source": [
    "from pyspark.sql import SparkSession\n",
    "from pyspark.sql.types import StructType,StructField, StringType, IntegerType"
   ]
  },
  {
   "cell_type": "code",
   "execution_count": 15,
   "id": "487734ec-bc27-4acd-a8f6-c813e9467045",
   "metadata": {},
   "outputs": [],
   "source": [
    "spark = SparkSession.builder.remote(\"sc://localhost:15002\").getOrCreate()"
   ]
  },
  {
   "cell_type": "code",
   "execution_count": 24,
   "id": "b38f5f81-dec3-4b80-8047-d3b29bd8d5c8",
   "metadata": {},
   "outputs": [],
   "source": [
    "data = [(\"James\",\"\",\"Smith\",\"36636\",\"M\",3000),\n",
    "    (\"Michael\",\"Rose\",\"\",\"40288\",\"M\",4000),\n",
    "    (\"Robert\",\"\",\"Williams\",\"42114\",\"M\",4000),\n",
    "    (\"Maria\",\"Anne\",\"Jones\",\"39192\",\"F\",4000),\n",
    "    (\"Jen\",\"Mary\",\"Brown\",\"\",\"F\",-1)\n",
    "  ]\n",
    "\n",
    "schema = StructType([ \\\n",
    "    StructField(\"firstname\",StringType(),True), \\\n",
    "    StructField(\"middlename\",StringType(),True), \\\n",
    "    StructField(\"lastname\",StringType(),True), \\\n",
    "    StructField(\"id\", StringType(), True), \\\n",
    "    StructField(\"gender\", StringType(), True), \\\n",
    "    StructField(\"salary\", IntegerType(), True) \\\n",
    "  ])"
   ]
  },
  {
   "cell_type": "code",
   "execution_count": 25,
   "id": "797a2c48-e1fc-4162-a651-407d32768bfd",
   "metadata": {
    "jp-MarkdownHeadingCollapsed": true
   },
   "outputs": [
    {
     "data": {
      "text/plain": [
       "[('James', '', 'Smith', '36636', 'M', 3000),\n",
       " ('Michael', 'Rose', '', '40288', 'M', 4000),\n",
       " ('Robert', '', 'Williams', '42114', 'M', 4000),\n",
       " ('Maria', 'Anne', 'Jones', '39192', 'F', 4000),\n",
       " ('Jen', 'Mary', 'Brown', '', 'F', -1)]"
      ]
     },
     "execution_count": 25,
     "metadata": {},
     "output_type": "execute_result"
    }
   ],
   "source": [
    "data"
   ]
  },
  {
   "cell_type": "code",
   "execution_count": 26,
   "id": "3b4daeff-5334-4b16-9fe1-1237defd8eef",
   "metadata": {},
   "outputs": [
    {
     "name": "stdout",
     "output_type": "stream",
     "text": [
      "root\n",
      " |-- firstname: string (nullable = true)\n",
      " |-- middlename: string (nullable = true)\n",
      " |-- lastname: string (nullable = true)\n",
      " |-- id: string (nullable = true)\n",
      " |-- gender: string (nullable = true)\n",
      " |-- salary: integer (nullable = true)\n",
      "\n"
     ]
    }
   ],
   "source": [
    "df = spark.createDataFrame(data=data, schema=schema)\n",
    "df.printSchema()"
   ]
  },
  {
   "cell_type": "code",
   "execution_count": 28,
   "id": "5c675ca8-c82a-4ed1-8bb6-201ea62fe908",
   "metadata": {},
   "outputs": [],
   "source": [
    "df.writeTo(\"db.test\").create()"
   ]
  },
  {
   "cell_type": "code",
   "execution_count": 29,
   "id": "bd53dc80-3f38-45da-aad7-7b67d8f47b76",
   "metadata": {},
   "outputs": [],
   "source": [
    "table = spark.table(\"db.test\")"
   ]
  },
  {
   "cell_type": "code",
   "execution_count": 30,
   "id": "b38ec203-ed4d-419b-840c-9b97239c57f7",
   "metadata": {
    "scrolled": true
   },
   "outputs": [
    {
     "name": "stdout",
     "output_type": "stream",
     "text": [
      "+---------+----------+--------+-----+------+------+\n",
      "|firstname|middlename|lastname|   id|gender|salary|\n",
      "+---------+----------+--------+-----+------+------+\n",
      "|    James|          |   Smith|36636|     M|  3000|\n",
      "|  Michael|      Rose|        |40288|     M|  4000|\n",
      "|   Robert|          |Williams|42114|     M|  4000|\n",
      "|    Maria|      Anne|   Jones|39192|     F|  4000|\n",
      "|      Jen|      Mary|   Brown|     |     F|    -1|\n",
      "+---------+----------+--------+-----+------+------+\n",
      "\n"
     ]
    }
   ],
   "source": [
    "table.show()"
   ]
  },
  {
   "cell_type": "code",
   "execution_count": 34,
   "id": "ecc7d435-7292-4e8c-82c6-12c30ce46e3b",
   "metadata": {},
   "outputs": [],
   "source": [
    "df = spark.read.csv(\"/opt/spark/data/water-quality-1.csv\",header=True)"
   ]
  },
  {
   "cell_type": "code",
   "execution_count": 35,
   "id": "0be78c42-8e30-4ed2-aa39-c0dedd76b658",
   "metadata": {},
   "outputs": [
    {
     "data": {
      "text/plain": [
       "DataFrame[Sample ID: string, Grab ID: string, Profile ID: string, Sample Number: string, Collect DateTime: string, Depth (m): string, Site Type: string, Area: string, Locator: string, Site: string, Parameter: string, Value: string, Units: string, QualityId: string, Lab Qualifier: string, MDL: string, RDL: string, Text Value: string, Sample Info: string, Steward Note: string, Replicates: string, Replicate Of: string, Method: string, Date Analyzed: string, Data Source: string]"
      ]
     },
     "execution_count": 35,
     "metadata": {},
     "output_type": "execute_result"
    }
   ],
   "source": [
    "df"
   ]
  },
  {
   "cell_type": "code",
   "execution_count": 36,
   "id": "f87dea5b-ef10-479b-83e7-d23dd555080b",
   "metadata": {},
   "outputs": [],
   "source": [
    "df.writeTo(\"db.water\").create()"
   ]
  },
  {
   "cell_type": "code",
   "execution_count": 38,
   "id": "6b4ed539-934c-481a-b1c3-8a98dc8cded7",
   "metadata": {},
   "outputs": [],
   "source": [
    "table = spark.table(\"db.water\")"
   ]
  },
  {
   "cell_type": "code",
   "execution_count": 39,
   "id": "a59eb826-066a-4a6b-85de-74304d01d24c",
   "metadata": {},
   "outputs": [
    {
     "name": "stdout",
     "output_type": "stream",
     "text": [
      "+---------+-------+----------+-------------+--------------------+---------+------------------+--------------------+--------+--------------------+--------------------+-------+--------+---------+-------------+------+-----+--------------------+-----------+------------+----------+------------+--------------------+-------------+-----------+\n",
      "|Sample ID|Grab ID|Profile ID|Sample Number|    Collect DateTime|Depth (m)|         Site Type|                Area| Locator|                Site|           Parameter|  Value|   Units|QualityId|Lab Qualifier|   MDL|  RDL|          Text Value|Sample Info|Steward Note|Replicates|Replicate Of|              Method|Date Analyzed|Data Source|\n",
      "+---------+-------+----------+-------------+--------------------+---------+------------------+--------------------+--------+--------------------+--------------------+-------+--------+---------+-------------+------+-----+--------------------+-----------+------------+----------+------------+--------------------+-------------+-----------+\n",
      "|    16316|  16316|     10702|      9209019|04/13/1992 12:00:...|     1.00|Streams and Rivers|              Pipers|  KSHZ06|  Pipers Creek mouth|    Total Phosphorus|   0.07|    mg/L|        2|         NULL|  NULL| NULL|.070||King County...|       NULL|        NULL|      NULL|        NULL|                none|         NULL|       KCEL|\n",
      "|     8937|   8937|     37688|      7915489|06/20/1979 12:00:...|     1.00|Streams and Rivers|               Crisp|    0321|Crisp Creek mouth...|Nitrite + Nitrate...|  0.727|    mg/L|        2|         NULL|  NULL| NULL|.727||King County...|       NULL|        NULL|      NULL|        NULL|                NULL|         NULL|       KCEL|\n",
      "|   137745| 137745|     54368|     L58228-1|06/25/2013 08:09:...|     1.00|       Large Lakes|Lake Union/Ship C...|    0512|Ship Canal above ...|         Temperature|   18.9|   deg C|        2|         NULL|  NULL| NULL|                NULL|       NULL|        NULL|      NULL|        NULL|            HYDROLAB|   06/25/2013|       KCEL|\n",
      "|   131816| 131816|     50605|     L55068-6|02/13/2012 09:38:...|     1.00|       Large Lakes|Lake Union/Ship C...|    0540|Ship Canal near M...|Orthophosphate Ph...|0.00724|    mg/L|        2|         NULL| 0.002|0.005|                NULL|       NULL|        NULL|      NULL|        NULL|          SM4500-P-F|   02/15/2012|       KCEL|\n",
      "|    82325|  82325|     43896|    L52933-87|03/30/2011 02:36:...|     4.20|       Large Lakes|     Lake Washington|    0804|Lake Washington n...|         Temperature|   8.94|   deg C|        2|         NULL|  NULL| NULL|                NULL|       NULL|        NULL|      NULL|        NULL|            HYDROLAB|         NULL|       KCEL|\n",
      "|    60091|  60091|     42106|    L29749-54|09/02/2003 01:44:...|     1.00|       Large Lakes|     Lake Washington|    0852|Lake Washington M...|         Temperature|   21.9|   deg C|        2|         NULL|  NULL| NULL|                NULL|       NULL|        NULL|      NULL|        NULL|                NULL|         NULL|       KCEL|\n",
      "|   156539|   NULL|     68254|     L70197-1|06/12/2018 08:55:...|     NULL|Streams and Rivers|            Idylwood|    A620|Idylwood Creek mo...|Orthophosphate Ph...| 0.0832|    mg/L|        2|         NULL|0.0005|0.002|                NULL|       NULL|        NULL|      NULL|        NULL|          SM4500-P-F|   06/14/2018|       KCEL|\n",
      "|    64045|  64045|     41210|    L47565-69|03/09/2009 12:50:...|    18.00|       Large Lakes|     Lake Washington|    0852|Lake Washington M...| Conductivity  Field|   97.3|umhos/cm|        2|         NULL|   0.5|   10|                NULL|       NULL|        NULL|      NULL|        NULL|HYDROLAB (SOP 205V4)|         NULL|       KCEL|\n",
      "|    41265|  41265|     40681|    L48174-26|05/27/2009 10:18:...|     1.00|       Large Lakes|      Lake Sammamish|    0611|Lake Sammamish mi...| Conductivity  Field|    104|umhos/cm|        2|         NULL|   0.5|   10|                NULL|       NULL|        NULL|      NULL|        NULL|            HYDROLAB|         NULL|       KCEL|\n",
      "|    22772|   NULL|     19978|     L19003-1|10/12/2000 09:42:...|     NULL|Streams and Rivers|          Longfellow|    C370|Longfellow Creek ...|  Storm Or Non-Storm|   NULL|    none|        2|         NULL|  NULL| NULL|                   N|       NULL|        NULL|      NULL|        NULL|                NONE|         NULL|       KCEL|\n",
      "|   138115| 138115|     54349|    L13491-13|06/02/1998 03:57:...|     1.00|       Large Lakes|Lake Union/Ship C...|    0512|Ship Canal above ...|        Conductivity|    147|umhos/cm|        2|         NULL|   0.5|    1|                NULL|       NULL|        NULL|      NULL|        NULL|            SM2510-B|   06/03/1998|       KCEL|\n",
      "|    18933|   NULL|     35637|     L15912-7|07/13/1999 10:47:...|     NULL|Streams and Rivers|               Green|    0311|Green River at In...|Nitrite + Nitrate...|  0.279|    mg/L|        2|         NULL|  0.02| 0.04|                NULL|       NULL|        NULL|      NULL|        NULL|SM4500-NO3-F (03-...|   07/13/1999|       KCEL|\n",
      "|    48030|  48030|     42339|    L26554-13|12/03/2002 11:31:...|    25.00|       Large Lakes|      Lake Sammamish|    0612|Lake Sammamish mi...|    Ammonia Nitrogen| 0.0335|    mg/L|        2|         NULL|  0.01| 0.02|                NULL|       NULL|        NULL|      NULL|        NULL|SM4500-NH3-G (03-...|   12/04/2002|       KCEL|\n",
      "|   120825| 120825|     49846|    L28114-37|05/05/2003 12:44:...|    20.60|       Large Lakes|     Lake Washington|    0831|Lake Washington m...|      Total Nitrogen|   0.27|    mg/L|        2|         NULL|  0.05|  0.1|                NULL|       NULL|        NULL|      NULL|        NULL|SM4500-N-C (03-03...|   05/13/2003|       KCEL|\n",
      "|   137614| 137614|     54604|     L55526-1|04/23/2012 08:04:...|     1.00|       Large Lakes|Lake Union/Ship C...|    0512|Ship Canal above ...|     Sampling Method|   NULL|    none|        2|         NULL|  NULL| NULL|60201  90151  100...|       NULL|        NULL|      NULL|        NULL|                NONE|         NULL|       KCEL|\n",
      "|    44626|  44626|     40949|    L65242-37|04/12/2016 10:57:...|    17.20|       Large Lakes|      Lake Sammamish|    0611|Lake Sammamish mi...|Dissolved Oxygen ...|    9.9|    mg/L|        2|         NULL|   0.5|    1|                NULL|       NULL|        NULL|      NULL|        NULL|       KCEL SOP# 245|   04/12/2016|       KCEL|\n",
      "|   158509|   NULL|     68745|     L71093-8|10/15/2018 09:55:...|     NULL|Streams and Rivers|     Patterson Creek|PATTER_3|Patterson Creek m...|Orthophosphate Ph...|  0.028|    mg/L|        2|         NULL|0.0005|0.002|                NULL|       NULL|        NULL|      NULL|        NULL|          SM4500-P-F|   10/16/2018|       KCEL|\n",
      "|   161314| 161314|     69589|   L72081-120|03/25/2019 12:59:...|    25.00|       Large Lakes|     Lake Washington|    0831|Lake Washington m...|       BGA PC  Field|   NULL|    ug/L|        1|         <MDL|   0.5|    1|                NULL|       NULL|        NULL|      NULL|        NULL|       KCEL SOP# 245|   03/25/2019|       KCEL|\n",
      "|    96717|  96717|     45073|    L28764-40|07/08/2003 10:19:...|     8.00|       Large Lakes|      Lake Sammamish|    0614|Lake Sammamish ne...|           pH  Field|    7.4|      pH|        2|         NULL|  NULL| NULL|                NULL|       NULL|        NULL|      NULL|        NULL|Hydrolab (02-01-0...|         NULL|       KCEL|\n",
      "|    69689|  69689|     41318|    L63507-87|07/29/2015 12:30:...|    35.00|       Large Lakes|     Lake Washington|    0852|Lake Washington M...|           pH  Field|    7.2|      pH|        2|         NULL|  NULL| NULL|                NULL|       NULL|        NULL|      NULL|        NULL|       KCEL SOP# 245|   07/29/2015|       KCEL|\n",
      "+---------+-------+----------+-------------+--------------------+---------+------------------+--------------------+--------+--------------------+--------------------+-------+--------+---------+-------------+------+-----+--------------------+-----------+------------+----------+------------+--------------------+-------------+-----------+\n",
      "only showing top 20 rows\n",
      "\n"
     ]
    }
   ],
   "source": [
    "table.show()"
   ]
  },
  {
   "cell_type": "code",
   "execution_count": null,
   "id": "002f333c-9848-4880-b018-f203f8f70ad7",
   "metadata": {},
   "outputs": [],
   "source": []
  }
 ],
 "metadata": {
  "kernelspec": {
   "display_name": "Python 3 (ipykernel)",
   "language": "python",
   "name": "python3"
  },
  "language_info": {
   "codemirror_mode": {
    "name": "ipython",
    "version": 3
   },
   "file_extension": ".py",
   "mimetype": "text/x-python",
   "name": "python",
   "nbconvert_exporter": "python",
   "pygments_lexer": "ipython3",
   "version": "3.11.8"
  }
 },
 "nbformat": 4,
 "nbformat_minor": 5
}
